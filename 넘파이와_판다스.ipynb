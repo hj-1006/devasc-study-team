{
  "nbformat": 4,
  "nbformat_minor": 0,
  "metadata": {
    "colab": {
      "provenance": [],
      "authorship_tag": "ABX9TyMNY2zMttRMbIIPG8DkzFLp",
      "include_colab_link": true
    },
    "kernelspec": {
      "name": "python3",
      "display_name": "Python 3"
    },
    "language_info": {
      "name": "python"
    }
  },
  "cells": [
    {
      "cell_type": "markdown",
      "metadata": {
        "id": "view-in-github",
        "colab_type": "text"
      },
      "source": [
        "<a href=\"https://colab.research.google.com/github/hj-1006/devasc-study-team/blob/main/%EB%84%98%ED%8C%8C%EC%9D%B4%EC%99%80_%ED%8C%90%EB%8B%A4%EC%8A%A4.ipynb\" target=\"_parent\"><img src=\"https://colab.research.google.com/assets/colab-badge.svg\" alt=\"Open In Colab\"/></a>"
      ]
    },
    {
      "cell_type": "code",
      "execution_count": 9,
      "metadata": {
        "colab": {
          "base_uri": "https://localhost:8080/"
        },
        "id": "DCLmJU6b0oi6",
        "outputId": "5228a410-4f59-4d34-c608-cc26f2a34463"
      },
      "outputs": [
        {
          "output_type": "stream",
          "name": "stdout",
          "text": [
            "a\n",
            " [[0 1 2 3 4]\n",
            " [5 6 7 8 9]]\n",
            "b\n",
            " [[0 5]\n",
            " [1 6]\n",
            " [2 7]\n",
            " [3 8]\n",
            " [4 9]]\n"
          ]
        }
      ],
      "source": [
        "import numpy as np\n",
        "a = np.array(range(10)).reshape((2,5))\n",
        "b = a.transpose()\n",
        "print('a\\n',a)\n",
        "print('b\\n',b)\n"
      ]
    },
    {
      "cell_type": "code",
      "source": [
        "#6-7 배열로 마스킹\n",
        "mask = np.array([0, 1, 1, 0], dtype = bool)\n",
        "print(mask)\n",
        "\n",
        "data = np.random.randn(4,2)\n",
        "print('\\data 출력 \\n',data)\n",
        "\n",
        "print('\\n 마스킹된 데이터 출력\\', data[mask]')\n",
        "print('\\n마스킹 역전된 데이터 출력\\' , data[~mask]')"
      ],
      "metadata": {
        "colab": {
          "base_uri": "https://localhost:8080/"
        },
        "id": "Kdlvmwrf5hEL",
        "outputId": "00184689-a14a-4271-9581-d3daeb762223"
      },
      "execution_count": 12,
      "outputs": [
        {
          "output_type": "stream",
          "name": "stdout",
          "text": [
            "[False  True  True False]\n",
            "\\data 출력 \n",
            " [[-0.90596047  1.48884072]\n",
            " [-0.46336123 -1.90780515]\n",
            " [ 1.21193413 -0.86764011]\n",
            " [-0.36443313 -0.51555399]]\n",
            "\n",
            " 마스킹된 데이터 출력', data[mask]\n",
            "\n",
            "마스킹 역전된 데이터 출력' , data[~mask]\n"
          ]
        }
      ]
    },
    {
      "cell_type": "code",
      "source": [],
      "metadata": {
        "id": "vZzxUvzd9hxE"
      },
      "execution_count": null,
      "outputs": []
    }
  ]
}